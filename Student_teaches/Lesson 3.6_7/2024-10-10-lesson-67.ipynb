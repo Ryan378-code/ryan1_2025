{
 "cells": [
  {
   "cell_type": "raw",
   "metadata": {
    "vscode": {
     "languageId": "raw"
    }
   },
   "source": [
    "---\n",
    "toc: false\n",
    "comments: true\n",
    "layout: post\n",
    "title: Lesson 3.6 and 3.7 Homework\n",
    "description: Here is my homework for lesson 3.6/3.7\n",
    "permalink: /Student_teaches/lesson-3.67/3-67\n",
    "author: Ryan Nguyen \n",
    "---"
   ]
  },
  {
   "cell_type": "markdown",
   "metadata": {
    "vscode": {
     "languageId": "plaintext"
    }
   },
   "source": [
    "<div style=\"border: 2px solid #336e9c; padding: 10px; border-radius: 5px; text-align: center;\">\n",
    "    <h2>Homework Hacks</h2>\n",
    "</div>\n"
   ]
  },
  {
   "cell_type": "code",
   "execution_count": 5,
   "metadata": {
    "vscode": {
     "languageId": "javascript"
    }
   },
   "outputs": [
    {
     "data": {
      "application/javascript": "\nfunction checkVoting() {\n    let age = prompt(\"Enter your age:\");\n    age = Number(age); // This will convert whatever the input is into a number.\n\n    if (age < 18) {\n        console.log(\"You are not eligible to vote.\"); // If and else statements that will print statements depending on what condition is or isn't met.\n    } else {\n        console.log(\"You are eligible to vote.\");\n    }\n}\n\n// Here I call the function to check voting eligibility.\ncheckVoting();\n\n",
      "text/plain": [
       "<IPython.core.display.Javascript object>"
      ]
     },
     "metadata": {},
     "output_type": "display_data"
    }
   ],
   "source": [
    "%%javascript // Hack #1\n",
    "\n",
    "function checkVoting() {\n",
    "    let age = prompt(\"Enter your age:\");\n",
    "    age = Number(age); // This will convert whatever the input is into a number.\n",
    "\n",
    "    if (age < 18) {\n",
    "        console.log(\"You are not eligible to vote.\"); // If and else statements that will print statements depending on what condition is or isn't met.\n",
    "    } else {\n",
    "        console.log(\"You are eligible to vote.\");\n",
    "    }\n",
    "}\n",
    "\n",
    "// Here I call the function to check voting eligibility.\n",
    "checkVoting();\n",
    "\n"
   ]
  },
  {
   "cell_type": "code",
   "execution_count": 6,
   "metadata": {
    "vscode": {
     "languageId": "javascript"
    }
   },
   "outputs": [
    {
     "data": {
      "application/javascript": "\nfunction decideWhatTo() {\n    let healthStatus = prompt(\"How do you feel about your eating habits? (healthy, indifferent, unhealthy)\");\n\n    if (healthStatus.toLowerCase() === \"healthy\") {\n        console.log(\"You should eat an apple.\");\n    } else if (healthStatus.toLowerCase() === \"indifferent\") {\n        console.log(\"You should drink coffee.\");\n    } else if (healthStatus.toLowerCase() === \"unhealthy\") {\n        console.log(\"You should eat chocolate.\");\n    } else {\n        console.log(\"Please enter a valid response (healthy, indifferent, unhealthy).\");\n    }\n}\n\n// Call the function to decide what to eat\ndecideWhatTo();\n",
      "text/plain": [
       "<IPython.core.display.Javascript object>"
      ]
     },
     "metadata": {},
     "output_type": "display_data"
    }
   ],
   "source": [
    "%%javascript \n",
    "\n",
    "function decideWhatTo() {\n",
    "    let healthStatus = prompt(\"How do you feel about your eating habits? (healthy, indifferent, unhealthy)\");\n",
    "\n",
    "    if (healthStatus.toLowerCase() === \"healthy\") {\n",
    "        console.log(\"You should eat an apple.\");\n",
    "    } else if (healthStatus.toLowerCase() === \"indifferent\") {\n",
    "        console.log(\"You should drink coffee.\");\n",
    "    } else if (healthStatus.toLowerCase() === \"unhealthy\") {\n",
    "        console.log(\"You should eat chocolate.\");\n",
    "    } else {\n",
    "        console.log(\"Please enter a valid response (healthy, indifferent, unhealthy).\");\n",
    "    }\n",
    "}\n",
    "\n",
    "// Call the function to decide what to eat\n",
    "decideWhatTo();\n"
   ]
  },
  {
   "cell_type": "code",
   "execution_count": null,
   "metadata": {},
   "outputs": [],
   "source": [
    "def assess_game_level(score): ## This is similar to the fitness hack in 3.7. I turned it into Python.\n",
    "    if score >= 100:\n",
    "        level = \"Legendary\"\n",
    "    else:\n",
    "        if score >= 75:\n",
    "            level = \"Master\"\n",
    "        else:\n",
    "            if score >= 50:\n",
    "                level = \"Expert\"\n",
    "            else:\n",
    "                if score >= 25:\n",
    "                    level = \"Novice\"\n",
    "                else:\n",
    "                    level = \"Beginner\"\n",
    "    return level\n",
    "\n",
    "\n",
    "user_score = int(input(\"Enter your score: \"))  # Get user input for score\n",
    "print(f\"Your game level: {assess_game_level(user_score)}\")\n"
   ]
  }
 ],
 "metadata": {
  "kernelspec": {
   "display_name": "venv",
   "language": "python",
   "name": "python3"
  },
  "language_info": {
   "codemirror_mode": {
    "name": "ipython",
    "version": 3
   },
   "file_extension": ".py",
   "mimetype": "text/x-python",
   "name": "python",
   "nbconvert_exporter": "python",
   "pygments_lexer": "ipython3",
   "version": "3.10.12"
  }
 },
 "nbformat": 4,
 "nbformat_minor": 2
}
