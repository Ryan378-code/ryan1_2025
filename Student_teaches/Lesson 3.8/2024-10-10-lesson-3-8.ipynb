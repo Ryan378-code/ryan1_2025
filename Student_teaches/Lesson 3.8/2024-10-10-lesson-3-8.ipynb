{
 "cells": [
  {
   "cell_type": "raw",
   "metadata": {
    "vscode": {
     "languageId": "raw"
    }
   },
   "source": [
    "---\n",
    "toc: false\n",
    "comments: true\n",
    "layout: post\n",
    "title: Lesson 3.8.1 Homework\n",
    "description: Here is my homework for lesson 3.8.1\n",
    "permalink: /Student_teaches/lesson-3.8/3-8\n",
    "author: Ryan Nguyen \n",
    "---"
   ]
  },
  {
   "cell_type": "markdown",
   "metadata": {
    "vscode": {
     "languageId": "raw"
    }
   },
   "source": [
    "<div style=\"border: 2px solid #336e9c; padding: 10px; border-radius: 5px; text-align: center;\">\n",
    "    <h2>🍿 Popcorn Hacks for Lesson 3.8</h2>\n",
    "</div>\n"
   ]
  },
  {
   "cell_type": "code",
   "execution_count": 1,
   "metadata": {},
   "outputs": [
    {
     "name": "stdout",
     "output_type": "stream",
     "text": [
      "The factorial of 9 is: 362880\n",
      "The factorial of 10 is: 3628800\n",
      "The factorial of 11 is: 39916800\n",
      "The factorial of 12 is: 479001600\n",
      "The factorial of 13 is: 6227020800\n"
     ]
    }
   ],
   "source": [
    "def factorial(n):\n",
    "    # Handle certain scenarios. \n",
    "    if not isinstance(n, int):\n",
    "        return \"Input must be an integer.\"\n",
    "    if n < 0:\n",
    "        return \"Factorial is not defined for negative numbers.\"\n",
    "    if n == 0 or n == 1:\n",
    "        return 1  # THis is just to ensure that 0 and 1 return 1 when we take the factorial. \n",
    "    \n",
    "    return n * factorial(n - 1)\n",
    "\n",
    "# Calculate and display the factorial for any numbers 9 to 13\n",
    "for num in range(9, 14):\n",
    "    result = factorial(num)\n",
    "    print(f\"The factorial of {num} is: {result}\")\n"
   ]
  },
  {
   "cell_type": "code",
   "execution_count": 2,
   "metadata": {},
   "outputs": [
    {
     "name": "stdout",
     "output_type": "stream",
     "text": [
      "These numbers are divisible by 2 from 2 to 3: [2]\n"
     ]
    }
   ],
   "source": [
    "def find_divisible_by_2(start, end):\n",
    "    return [num for num in range(start, end + 1) if num % 2 == 0] ## This uses a list comprehension, which is actually part of my lesson!\n",
    "\n",
    "\n",
    "start = int(input(\"Enter the starting number: \"))\n",
    "end = int(input(\"Enter the ending number: \"))\n",
    "\n",
    "# This part of the function finds number divisible by 2. \n",
    "divisible_by_2 = find_divisible_by_2(start, end)\n",
    "print(f\"These numbers are divisible by 2 from {start} to {end}: {divisible_by_2}\")\n",
    "\n",
    "## The output will display the actual numbers divisible by 2, not the amount that can be divided."
   ]
  }
 ],
 "metadata": {
  "kernelspec": {
   "display_name": "venv",
   "language": "python",
   "name": "python3"
  },
  "language_info": {
   "codemirror_mode": {
    "name": "ipython",
    "version": 3
   },
   "file_extension": ".py",
   "mimetype": "text/x-python",
   "name": "python",
   "nbconvert_exporter": "python",
   "pygments_lexer": "ipython3",
   "version": "3.10.12"
  }
 },
 "nbformat": 4,
 "nbformat_minor": 2
}
