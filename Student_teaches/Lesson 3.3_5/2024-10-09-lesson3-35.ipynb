{
 "cells": [
  {
   "cell_type": "raw",
   "metadata": {
    "vscode": {
     "languageId": "raw"
    }
   },
   "source": [
    "---\n",
    "toc: false\n",
    "comments: true\n",
    "layout: post\n",
    "title: Lesson 3.3 and 3.5 Homework and Popcorn\n",
    "description: Here is my homework for lesson 3.3 and 3.5 I completed all four of the assigned hacks. \n",
    "permalink: /Student_teaches/lesson-3.1/3-1\n",
    "author: Ryan Nguyen \n",
    "---\n"
   ]
  },
  {
   "cell_type": "markdown",
   "metadata": {},
   "source": [
    "<div style=\"border: 2px solid #336e9c; padding: 10px; border-radius: 5px; text-align: center;\">\n",
    "    <h2> Hacks for Lesson 3.3 (Mathematical Expressions)</h2>\n",
    "</div>\n"
   ]
  },
  {
   "cell_type": "code",
   "execution_count": 26,
   "metadata": {},
   "outputs": [
    {
     "name": "stdout",
     "output_type": "stream",
     "text": [
      "11\n",
      "2\n",
      "3.0\n",
      "1\n",
      "8\n"
     ]
    }
   ],
   "source": [
    "def add(g, y):\n",
    "    return g + y ##Adds my two parameters, g and y. This is Hack #1 BTW.\n",
    "\n",
    "def subtract(g, y):\n",
    "    return g - y ##Subtracts my two parameters.\n",
    "\n",
    "def divide(g, y):\n",
    "    if y == 0:\n",
    "        return \"Error: Division by zero.\"\n",
    "    return g / y ##Dividing my parameters, accounting for dividing by zero not being possible (DNE). \n",
    "\n",
    "def modulus(g, y):\n",
    "    return g % y ##Modulus function, which divides y into g and provides a remainder. \n",
    "\n",
    "def power(g, y):\n",
    "    return g ** y ##Exponential function, where g is raised to y. \n",
    "\n",
    "print(add(8, 3))          # Output: 11\n",
    "print(subtract(5, 3))     # Output: 2\n",
    "print(divide(9, 3))       # Output: 3.0\n",
    "print(modulus(9, 2))      # Output: 1\n",
    "print(power(2, 3))        # Output: 8\n"
   ]
  },
  {
   "cell_type": "code",
   "execution_count": 27,
   "metadata": {},
   "outputs": [
    {
     "name": "stdout",
     "output_type": "stream",
     "text": [
      "7\n"
     ]
    }
   ],
   "source": [
    "## Hack #2\n",
    "\n",
    "def find_point(x):\n",
    "    y = 5 * x + 2\n",
    "    return y\n",
    "\n",
    "print(find_point(1))  # Output: 7, since it plugs 1 into my equation.\n"
   ]
  },
  {
   "cell_type": "markdown",
   "metadata": {},
   "source": [
    "<div style=\"border: 2px solid #336e9c; padding: 10px; border-radius: 5px; text-align: center;\">\n",
    "    <h2> Hacks for Lesson 3.5 (Booleans)</h2>\n",
    "</div>\n"
   ]
  },
  {
   "cell_type": "code",
   "execution_count": 28,
   "metadata": {},
   "outputs": [
    {
     "name": "stdout",
     "output_type": "stream",
     "text": [
      "True\n",
      "True\n",
      "False\n",
      "False\n"
     ]
    }
   ],
   "source": [
    "def goOutside(temperature, isRaining): ##Defining my function and outlining parameters.\n",
    "    if temperature < 100 and isRaining:\n",
    "        return True\n",
    "    elif temperature > 32 and not isRaining:\n",
    "        return True\n",
    "    elif temperature > 100 and isRaining:\n",
    "        return False\n",
    "    \n",
    "    else:\n",
    "        return False\n",
    "\n",
    "\n",
    "print(goOutside(90, True))   # 90 corresponds to the temperature variable, and True corresponds to the isRaining variable. This should return true. \n",
    "print(goOutside(50, False))  #True.\n",
    "print(goOutside(30, False))  #False\n",
    "print(goOutside(110, True)) #False. \n"
   ]
  },
  {
   "cell_type": "code",
   "execution_count": 29,
   "metadata": {
    "vscode": {
     "languageId": "javascript"
    }
   },
   "outputs": [
    {
     "data": {
      "application/javascript": "\nfunction goOutside(temperature, isRaining) { // Defining the function and outlining parameters, just this time in JS.\n    if (temperature < 100 && isRaining) {\n        return true;\n    } else if (temperature > 32 && !isRaining) {\n        return true;\n    } else if (temperature > 100 && isRaining) {\n        return false;\n    } else {\n        return false;\n    }\n}\n\nconsole.log(goOutside(90, true));   // Output: true\nconsole.log(goOutside(50, false));  // Output: true\nconsole.log(goOutside(30, false));  // Output: false\nconsole.log(goOutside(110, true));  // Output: false\n",
      "text/plain": [
       "<IPython.core.display.Javascript object>"
      ]
     },
     "metadata": {},
     "output_type": "display_data"
    }
   ],
   "source": [
    "%%javascript // This is still part of Hack 1. This is just in JavaScript. \n",
    "\n",
    "function goOutside(temperature, isRaining) { // Defining the function and outlining parameters, just this time in JS.\n",
    "    if (temperature < 100 && isRaining) { // Making sure to use the AND logical operator, &&. \n",
    "        return true;\n",
    "    } else if (temperature > 32 && !isRaining) {\n",
    "        return true;\n",
    "    } else if (temperature > 100 && isRaining) {\n",
    "        return false;\n",
    "    } else {\n",
    "        return false;\n",
    "    }\n",
    "}\n",
    "\n",
    "console.log(goOutside(90, true));   // Output: true\n",
    "console.log(goOutside(50, false));  // Output: true\n",
    "console.log(goOutside(30, false));  // Output: false\n",
    "console.log(goOutside(110, true));  // Output: false\n"
   ]
  },
  {
   "cell_type": "code",
   "execution_count": null,
   "metadata": {
    "vscode": {
     "languageId": "javascript"
    }
   },
   "outputs": [],
   "source": [
    "%%javascript // This is hack #2, simplifying expressions.\n",
    "\n",
    "let stayInside = !isRaining || !isCold; // Updated expression for 1, using OR operator.\n",
    "\n",
    "let stayInside = !isRaining && !isCold; // Updated expression for 2, using AND operator.\n",
    "\n",
    "\n",
    "\n"
   ]
  }
 ],
 "metadata": {
  "kernelspec": {
   "display_name": "venv",
   "language": "python",
   "name": "python3"
  },
  "language_info": {
   "codemirror_mode": {
    "name": "ipython",
    "version": 3
   },
   "file_extension": ".py",
   "mimetype": "text/x-python",
   "name": "python",
   "nbconvert_exporter": "python",
   "pygments_lexer": "ipython3",
   "version": "3.10.12"
  }
 },
 "nbformat": 4,
 "nbformat_minor": 2
}
