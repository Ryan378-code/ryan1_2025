{
 "cells": [
  {
   "cell_type": "raw",
   "metadata": {
    "vscode": {
     "languageId": "raw"
    }
   },
   "source": [
    "---\n",
    "toc: false\n",
    "comments: true\n",
    "layout: post\n",
    "title: Lesson 3.1 and 3.4 Homework and Popcorn\n",
    "description: Here is my homework for lesson 3.1/3.4. I completed four homework hacks of my choosing and some popcorn hacks. The popcorn hacks are extras. \n",
    "permalink: /Student_teaches/lesson-3.1/3-1\n",
    "author: Ryan Nguyen \n",
    "---\n"
   ]
  },
  {
   "cell_type": "markdown",
   "metadata": {},
   "source": [
    "<div style=\"border: 2px solid #336e9c; padding: 10px; border-radius: 5px; text-align: center;\">\n",
    "    <h2>🍿 Popcorn Hacks for Lesson 3.1 (Python Variable)</h2>\n",
    "</div>\n"
   ]
  },
  {
   "cell_type": "code",
   "execution_count": 16,
   "metadata": {},
   "outputs": [
    {
     "name": "stdout",
     "output_type": "stream",
     "text": [
      "Here is my PascalCase Variable.\n"
     ]
    }
   ],
   "source": [
    "OopsNo = \"Here is my PascalCase Variable.\"\n",
    "print(OopsNo)"
   ]
  },
  {
   "cell_type": "code",
   "execution_count": 17,
   "metadata": {},
   "outputs": [
    {
     "name": "stdout",
     "output_type": "stream",
     "text": [
      "3\n"
     ]
    }
   ],
   "source": [
    "loveFriday = 3\n",
    "print(loveFriday)"
   ]
  },
  {
   "cell_type": "markdown",
   "metadata": {},
   "source": [
    "<div style=\"border: 2px solid #336e9c; padding: 10px; border-radius: 5px; text-align: center;\">\n",
    "    <h2>Homework Hack #2 for Python</h2>\n",
    "</div>"
   ]
  },
  {
   "cell_type": "code",
   "execution_count": 18,
   "metadata": {},
   "outputs": [
    {
     "name": "stdout",
     "output_type": "stream",
     "text": [
      "a: 10\n",
      "b: 5\n"
     ]
    }
   ],
   "source": [
    "a = 5 #These are my given integers.\n",
    "b = 10\n",
    "\n",
    "a, b = b, a #Redefining my variables, so that the printed result is swapped. \n",
    "\n",
    "print(\"a:\", a)  \n",
    "print(\"b:\", b)  \n"
   ]
  },
  {
   "cell_type": "markdown",
   "metadata": {},
   "source": [
    "<div style=\"border: 2px solid #336e9c; padding: 10px; border-radius: 5px; text-align: center;\">\n",
    "    <h2>Homework Hack #2 for Javascript</h2>\n",
    "</div>"
   ]
  },
  {
   "cell_type": "code",
   "execution_count": 19,
   "metadata": {
    "vscode": {
     "languageId": "javascript"
    }
   },
   "outputs": [
    {
     "name": "stdout",
     "output_type": "stream",
     "text": [
      "The store has 10 units of Paper priced at $5000000 each.\n",
      "The store has 50 units of Rings priced at $1500 each.\n"
     ]
    }
   ],
   "source": [
    "%%javascript\n",
    "\n",
    "// Product 1, using const statements to define my variables.\n",
    "const productName1 = \"paper\";\n",
    "const productPrice1 = 5000000;\n",
    "const productStock1 = 10;\n",
    "\n",
    "// Product 2\n",
    "const productName2 = \"rings\";\n",
    "const productPrice2 = 1500;\n",
    "const productStock2 = 50;\n",
    "\n",
    "// Output messages\n",
    "console.log(`The store has ${productStock1} units of ${productName1} priced at $${productPrice1} each.`);\n",
    "console.log(`The store has ${productStock2} units of ${productName2} priced at $${productPrice2} each.`);"
   ]
  }
 ],
 "metadata": {
  "kernelspec": {
   "display_name": "venv",
   "language": "python",
   "name": "python3"
  },
  "language_info": {
   "codemirror_mode": {
    "name": "ipython",
    "version": 3
   },
   "file_extension": ".py",
   "mimetype": "text/x-python",
   "name": "python",
   "nbconvert_exporter": "python",
   "pygments_lexer": "ipython3",
   "version": "3.10.12"
  }
 },
 "nbformat": 4,
 "nbformat_minor": 2
}
