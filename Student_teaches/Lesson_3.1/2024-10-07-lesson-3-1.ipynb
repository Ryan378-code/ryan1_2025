{
 "cells": [
  {
   "cell_type": "markdown",
   "metadata": {
    "vscode": {
     "languageId": "raw"
    }
   },
   "source": [
    "---\n",
    "toc: false\n",
    "comments: true\n",
    "layout: post\n",
    "title: Lesson 3.1 and 3.4 Homework and Popcorn\n",
    "description: Here is my homework for lesson 3.1/3.4. I completed four homework hacks of my choosing and some popcorn hacks. The popcorn hacks are extras. \n",
    "permalink: /Student_teaches/lesson-3.1/3-1\n",
    "author: Ryan Nguyen \n",
    "---\n"
   ]
  },
  {
   "cell_type": "markdown",
   "metadata": {},
   "source": [
    "<div style=\"border: 2px solid #336e9c; padding: 10px; border-radius: 5px; text-align: center;\">\n",
    "    <h2>🍿 Popcorn Hacks for Lesson 3.1 (Python Variable)</h2>\n",
    "</div>\n"
   ]
  },
  {
   "cell_type": "code",
   "execution_count": 50,
   "metadata": {},
   "outputs": [
    {
     "name": "stdout",
     "output_type": "stream",
     "text": [
      "Here is my PascalCase Variable.\n"
     ]
    }
   ],
   "source": [
    "OopsNo = \"Here is my PascalCase Variable.\" # This is #1 \n",
    "print(OopsNo)"
   ]
  },
  {
   "cell_type": "code",
   "execution_count": 51,
   "metadata": {},
   "outputs": [
    {
     "name": "stdout",
     "output_type": "stream",
     "text": [
      "3\n"
     ]
    }
   ],
   "source": [
    "loveFriday = 3 #This is #2.\n",
    "print(loveFriday)"
   ]
  },
  {
   "cell_type": "code",
   "execution_count": null,
   "metadata": {},
   "outputs": [],
   "source": [
    "random1 = 999.9999 #This is #3.\n",
    "random2 = \"Anna Oop\"\n",
    "random3 = 99"
   ]
  },
  {
   "cell_type": "markdown",
   "metadata": {},
   "source": [
    "<div style=\"border: 2px solid #336e9c; padding: 10px; border-radius: 5px; text-align: center;\">\n",
    "    <h2>Homework Hack #2 for Python</h2>\n",
    "</div>"
   ]
  },
  {
   "cell_type": "code",
   "execution_count": 52,
   "metadata": {},
   "outputs": [
    {
     "name": "stdout",
     "output_type": "stream",
     "text": [
      "a: 10\n",
      "b: 5\n"
     ]
    }
   ],
   "source": [
    "a = 5 #These are my given integers.\n",
    "b = 10\n",
    "\n",
    "a, b = b, a #Redefining my variables, so that the printed result is swapped. \n",
    "\n",
    "print(\"a:\", a)  \n",
    "print(\"b:\", b)  \n"
   ]
  },
  {
   "cell_type": "markdown",
   "metadata": {},
   "source": [
    "<div style=\"border: 2px solid #336e9c; padding: 10px; border-radius: 5px; text-align: center;\">\n",
    "    <h2>Homework Hack #2 for Javascript</h2>\n",
    "</div>"
   ]
  },
  {
   "cell_type": "code",
   "execution_count": 53,
   "metadata": {
    "vscode": {
     "languageId": "javascript"
    }
   },
   "outputs": [
    {
     "data": {
      "application/javascript": "\n// Product 1, using const statements to define my variables.\nconst productName1 = \"paper\";\nconst productPrice1 = 5000000;\nconst productStock1 = 10;\n\n// Product 2\nconst productName2 = \"rings\";\nconst productPrice2 = 1500;\nconst productStock2 = 50;\n\n// Output messages\nconsole.log(`The store has ${productStock1} units of ${productName1} priced at $${productPrice1} each.`);\nconsole.log(`The store has ${productStock2} units of ${productName2} priced at $${productPrice2} each.`);\n",
      "text/plain": [
       "<IPython.core.display.Javascript object>"
      ]
     },
     "metadata": {},
     "output_type": "display_data"
    }
   ],
   "source": [
    "%%javascript\n",
    "\n",
    "// Product 1, using const statements to define my variables.\n",
    "const productName1 = \"paper\";\n",
    "const productPrice1 = 5000000;\n",
    "const productStock1 = 10;\n",
    "\n",
    "// Product 2\n",
    "const productName2 = \"rings\";\n",
    "const productPrice2 = 1500;\n",
    "const productStock2 = 50;\n",
    "\n",
    "// Output messages\n",
    "console.log(`The store has ${productStock1} units of ${productName1} priced at $${productPrice1} each.`);\n",
    "console.log(`The store has ${productStock2} units of ${productName2} priced at $${productPrice2} each.`);"
   ]
  },
  {
   "cell_type": "markdown",
   "metadata": {},
   "source": [
    "<div style=\"border: 2px solid #336e9c; padding: 10px; border-radius: 5px; text-align: center;\">\n",
    "    <h2>🍿 Popcorn Hacks for Lesson 3.4</h2>\n",
    "</div>"
   ]
  },
  {
   "cell_type": "code",
   "execution_count": 54,
   "metadata": {},
   "outputs": [
    {
     "name": "stdout",
     "output_type": "stream",
     "text": [
      "Please help.\n",
      "I'm broke.\n",
      "Send money.\n"
     ]
    }
   ],
   "source": [
    "help1 = \"Please help.\"\n",
    "help2 = \"I'm broke.\"\n",
    "help3 = \"Send money.\"\n",
    "\n",
    "print(help1)\n",
    "print(help2)\n",
    "print(help3)"
   ]
  },
  {
   "cell_type": "code",
   "execution_count": 55,
   "metadata": {},
   "outputs": [
    {
     "name": "stdout",
     "output_type": "stream",
     "text": [
      "Hi! My name is Ryan, and I am 16 years old.\n"
     ]
    }
   ],
   "source": [
    "name = \"Ryan\"\n",
    "age = 16\n",
    "\n",
    "# Concatenate the strings\n",
    "print(\"Hi! My name is \" + name + \", and I am \" + str(age) + \" years old.\")"
   ]
  },
  {
   "cell_type": "code",
   "execution_count": 56,
   "metadata": {
    "vscode": {
     "languageId": "javascript"
    }
   },
   "outputs": [
    {
     "data": {
      "application/javascript": "\nconst ryan = \"Ryan\";         \nconst age = 16;              \nconst city = \"San Diego\";    \n\n// Concatenation\nconst concatenatedMessage = \"Hello my name is \" + ryan + \". I am \" + age + \" years old and I live in \" + city + \".\";\n\n// Interpolation\nconst interpolatedMessage = `Hello my name is ${ryan}. I am ${age} years old and I live in ${city}.`;\n\n// Output the messages\nconsole.log(concatenatedMessage);\nconsole.log(interpolatedMessage);\n",
      "text/plain": [
       "<IPython.core.display.Javascript object>"
      ]
     },
     "metadata": {},
     "output_type": "display_data"
    }
   ],
   "source": [
    "%%javascript\n",
    "\n",
    "const ryan = \"Ryan\";         \n",
    "const age = 16;              \n",
    "const city = \"San Diego\";    \n",
    "\n",
    "// Concatenation\n",
    "const concatenatedMessage = \"Hello my name is \" + ryan + \". I am \" + age + \" years old and I live in \" + city + \".\";\n",
    "\n",
    "// Interpolation\n",
    "const interpolatedMessage = `Hello my name is ${ryan}. I am ${age} years old and I live in ${city}.`;\n",
    "\n",
    "// Output the messages\n",
    "console.log(concatenatedMessage);\n",
    "console.log(interpolatedMessage);\n"
   ]
  },
  {
   "cell_type": "code",
   "execution_count": 57,
   "metadata": {
    "vscode": {
     "languageId": "javascript"
    }
   },
   "outputs": [
    {
     "data": {
      "application/javascript": "\nconst sentence = \"The quick brown fox jumps over the lazy dog\";\n\n// Extract the word \"quick\"\nconst quick = sentence.slice(4, 9); // Starting at index 4 and ending before index 9, using the .slice method.\n\n// Extract the word \"lazy\" using a negative starting index\nconst lazy = sentence.slice(-8, -4); // Starting at -8 and ending before -4 (goes in reverse index).\n\n// Extract everything from the word \"fox\" to the end of the sentence\nconst fromFoxToEnd = sentence.slice(16); // This takes an element corresponding to index 16, and extracts everything that comes after. \n\n\nconsole.log(\"Extracted word 'quick':\", quick);\nconsole.log(\"Extracted word 'lazy':\", lazy);\nconsole.log(\"Extracted from 'fox' to end:\", fromFoxToEnd); // These will print out the extractions using console.log.\n",
      "text/plain": [
       "<IPython.core.display.Javascript object>"
      ]
     },
     "metadata": {},
     "output_type": "display_data"
    }
   ],
   "source": [
    "%%javascript \n",
    "\n",
    "const sentence = \"The quick brown fox jumps over the lazy dog\";\n",
    "\n",
    "// Extract the word \"quick\"\n",
    "const quick = sentence.slice(4, 9); // Starting at index 4 and ending before index 9, using the .slice method.\n",
    "\n",
    "// Extract the word \"lazy\" using a negative starting index\n",
    "const lazy = sentence.slice(-8, -4); // Starting at -8 and ending before -4 (goes in reverse index).\n",
    "\n",
    "// Extract everything from the word \"fox\" to the end of the sentence\n",
    "const fromFoxToEnd = sentence.slice(16); // This takes an element corresponding to index 16, and extracts everything that comes after. \n",
    "\n",
    "\n",
    "console.log(\"Extracted word 'quick':\", quick);\n",
    "console.log(\"Extracted word 'lazy':\", lazy);\n",
    "console.log(\"Extracted from 'fox' to end:\", fromFoxToEnd); // These will print out the extractions using console.log.\n"
   ]
  },
  {
   "cell_type": "markdown",
   "metadata": {},
   "source": [
    "<div style=\"border: 2px solid #336e9c; padding: 10px; border-radius: 5px; text-align: center;\">\n",
    "    <h2>Homework Hacks for Lesson 3.4</h2>\n",
    "</div>"
   ]
  },
  {
   "cell_type": "code",
   "execution_count": 58,
   "metadata": {},
   "outputs": [
    {
     "name": "stdout",
     "output_type": "stream",
     "text": [
      "The reversed string is: 'ecnetnes modnar a si sihT'\n"
     ]
    }
   ],
   "source": [
    "def reverse_string(input_string): # This is hack #1 on the homework hacks. \n",
    "    # Reverse the string using slicing, one of our string methods!\n",
    "    reversed_string = input_string[::-1]\n",
    "    return reversed_string\n",
    "\n",
    "# Reversing the sentence\n",
    "input_string = \"This is a random sentence\"\n",
    "reversed_result = reverse_string(input_string)\n",
    "\n",
    "print(f\"The reversed string is: '{reversed_result}'\")\n"
   ]
  },
  {
   "cell_type": "code",
   "execution_count": 59,
   "metadata": {
    "vscode": {
     "languageId": "javascript"
    }
   },
   "outputs": [
    {
     "data": {
      "application/javascript": "\nconst africanCountries = \"Algeria, Angola, Benin, Botswana, Burkina Faso, Burundi, Cabo Verde, Cameroon, Central African Republic, Chad, Comoros, Congo (Congo-Brazzaville), Cote d’Ivoire, Djibouti, DR Congo (Congo-Kinshasa), Egypt, Equatorial Guinea, Eritrea, Eswatini, Ethiopia, Gabon, Gambia, Ghana, Guinea, Guinea-Bissau, Kenya, Lesotho, Liberia, Libya, Madagascar, Malawi, Mali, Mauritania, Mauritius, Morocco, Mozambique, Namibia, Niger, Nigeria, Rwanda, Sao Tome and Principe, Senegal, Seychelles, Sierra Leone, Somalia, South Africa, South Sudan, Sudan, Tanzania, Togo, Tunisia, Uganda, Zambia, Zimbabwe\";\n\n// Convert string to array\nconst countriesArray = africanCountries.split(\", \");\n\n// Output the array\nconsole.log(countriesArray);\n",
      "text/plain": [
       "<IPython.core.display.Javascript object>"
      ]
     },
     "metadata": {},
     "output_type": "display_data"
    }
   ],
   "source": [
    "%%javascript\n",
    "\n",
    "const africanCountries = \"Algeria, Angola, Benin, Botswana, Burkina Faso, Burundi, Cabo Verde, Cameroon, Central African Republic, Chad, Comoros, Congo (Congo-Brazzaville), Cote d’Ivoire, Djibouti, DR Congo (Congo-Kinshasa), Egypt, Equatorial Guinea, Eritrea, Eswatini, Ethiopia, Gabon, Gambia, Ghana, Guinea, Guinea-Bissau, Kenya, Lesotho, Liberia, Libya, Madagascar, Malawi, Mali, Mauritania, Mauritius, Morocco, Mozambique, Namibia, Niger, Nigeria, Rwanda, Sao Tome and Principe, Senegal, Seychelles, Sierra Leone, Somalia, South Africa, South Sudan, Sudan, Tanzania, Togo, Tunisia, Uganda, Zambia, Zimbabwe\";\n",
    "\n",
    "// This converts the string to an array using a .split method (a string method). This breaks up the string any time there is an element that has a comma followed by a space.\n",
    "const countriesArray = africanCountries.split(\", \");\n",
    "\n",
    "// Output the array\n",
    "console.log(countriesArray);\n"
   ]
  }
 ],
 "metadata": {
  "kernelspec": {
   "display_name": "venv",
   "language": "python",
   "name": "python3"
  },
  "language_info": {
   "codemirror_mode": {
    "name": "ipython",
    "version": 3
   },
   "file_extension": ".py",
   "mimetype": "text/x-python",
   "name": "python",
   "nbconvert_exporter": "python",
   "pygments_lexer": "ipython3",
   "version": "3.10.12"
  }
 },
 "nbformat": 4,
 "nbformat_minor": 2
}
