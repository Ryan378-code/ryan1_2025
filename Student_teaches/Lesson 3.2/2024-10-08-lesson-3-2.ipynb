{
 "cells": [
  {
   "cell_type": "raw",
   "metadata": {
    "vscode": {
     "languageId": "raw"
    }
   },
   "source": [
    "---\n",
    "toc: false\n",
    "comments: true\n",
    "layout: post\n",
    "title: Lesson 3.2 Homework and Popcorn\n",
    "description: Here is my homework for lesson 3.2. \n",
    "permalink: /Student_teaches/lesson-3.2/3-2\n",
    "author: Ryan Nguyen \n",
    "---"
   ]
  },
  {
   "cell_type": "markdown",
   "metadata": {},
   "source": [
    "<div style=\"border: 2px solid #336e9c; padding: 10px; border-radius: 5px; text-align: center;\">\n",
    "    <h2>🍿 Popcorn Hacks for Lesson 3.2 (Michelle's Portion: Data Types Part 1)</h2>\n",
    "</div>"
   ]
  },
  {
   "cell_type": "code",
   "execution_count": 19,
   "metadata": {},
   "outputs": [
    {
     "name": "stdout",
     "output_type": "stream",
     "text": [
      "The sum of 4 and 5 is: 9\n"
     ]
    }
   ],
   "source": [
    "# Popcorn hack #1 from Michelle's lesson.\n",
    "\n",
    "# Function to add two integers\n",
    "def add_two_integers(a, b):\n",
    "    return a + b\n",
    "\n",
    "# The following code gathers user input while running the code directly. \n",
    "if __name__ == \"__main__\":\n",
    "    # Get user input\n",
    "    num1 = int(input(\"Enter the first integer: \"))\n",
    "    num2 = int(input(\"Enter the second integer: \"))\n",
    "\n",
    "    # Add the integers\n",
    "    result = add_two_integers(num1, num2)\n",
    "\n",
    "    # Print the result\n",
    "    print(f\"The sum of {num1} and {num2} is: {result}\")\n"
   ]
  },
  {
   "cell_type": "code",
   "execution_count": 20,
   "metadata": {},
   "outputs": [
    {
     "name": "stdout",
     "output_type": "stream",
     "text": [
      "The length of the string is: 4\n"
     ]
    }
   ],
   "source": [
    "# Popcorn Hack #2, creating a python function to determine the length of a string. \n",
    "\n",
    "# Function to count the length of a string, using the function len() to determine the length of the string.\n",
    "def count_string_length(s):\n",
    "    return len(s)\n",
    "\n",
    "# Main program\n",
    "if __name__ == \"__main__\": # Same as the last one, where the code runs when prompted. \n",
    "    # Get user input\n",
    "    user_input = input(\"Enter a string: \")\n",
    "\n",
    "    # Count the length of the string\n",
    "    length = count_string_length(user_input)\n",
    "\n",
    "    print(f\"The length of the string is: {length}\")"
   ]
  },
  {
   "cell_type": "code",
   "execution_count": 21,
   "metadata": {},
   "outputs": [
    {
     "name": "stdout",
     "output_type": "stream",
     "text": [
      "Is test_value1 None? True\n",
      "Is test_value2 None? False\n"
     ]
    }
   ],
   "source": [
    "# Function to check if a value is None, AKA popcorn hack #3.\n",
    "def not_today(value):\n",
    "    return value is None\n",
    "\n",
    "# definin my variables, where the first is \"None\" and the other is a string.\n",
    "test_value1 = None\n",
    "test_value2 = \"anna oop\"\n",
    "\n",
    "print(f\"Is test_value1 None? {not_today(test_value1)}\")  # True\n",
    "print(f\"Is test_value2 None? {not_today(test_value2)}\")  # False\n"
   ]
  },
  {
   "cell_type": "markdown",
   "metadata": {},
   "source": [
    "<div style=\"border: 2px solid #336e9c; padding: 10px; border-radius: 5px; text-align: center;\">\n",
    "    <h2>🍿 Popcorn Hacks for Lesson 3.2 (Data Types Part 2)</h2>\n",
    "</div>"
   ]
  },
  {
   "cell_type": "code",
   "execution_count": 22,
   "metadata": {},
   "outputs": [
    {
     "name": "stdout",
     "output_type": "stream",
     "text": [
      "Original dictionary: {'name': 'Ryan', 'age': 16, 'city': 'San Diego'}\n",
      "Updated dictionary (after changing age): {'name': 'Ryan', 'age': 17, 'city': 'San Diego'}\n"
     ]
    }
   ],
   "source": [
    "# Creating my basic dictionary! \n",
    "my_info = {\n",
    "    \"name\": \"Ryan\",\n",
    "    \"age\": 16,\n",
    "    \"city\": \"San Diego\"\n",
    "}\n",
    "\n",
    "# Print the original dictionary, my_info with the base information.\n",
    "print(\"Original dictionary:\", my_info)\n",
    "\n",
    "# Update the existing item (age)\n",
    "my_info[\"age\"] = 17  # Updating my age from 16 to 17. \n",
    "print(\"Updated dictionary (after changing age):\", my_info)\n"
   ]
  },
  {
   "cell_type": "markdown",
   "metadata": {},
   "source": [
    "<div style=\"border: 2px solid #336e9c; padding: 10px; border-radius: 5px; text-align: center;\">\n",
    "    <h2>🍿 Popcorn Hack for Lesson 3.2 (JSON Implementation)</h2>\n",
    "</div>"
   ]
  },
  {
   "cell_type": "code",
   "execution_count": 23,
   "metadata": {},
   "outputs": [
    {
     "name": "stdout",
     "output_type": "stream",
     "text": [
      "Original JSON string: {\"name\": \"Ryan\", \"age\": 16, \"city\": \"San Diego\"}\n",
      "Updated JSON string: {\"name\": \"Ryan\", \"age\": 17, \"city\": \"San Diego\"}\n",
      "Updated dictionary: {'name': 'Ryan', 'age': 17, 'city': 'San Diego'}\n"
     ]
    }
   ],
   "source": [
    "import json\n",
    "\n",
    "# Here is my original dictionary, which I will convert it to a JSON string.\n",
    "my_info = {\n",
    "    \"name\": \"Ryan\",\n",
    "    \"age\": 16,\n",
    "    \"city\": \"San Diego\"\n",
    "}\n",
    "\n",
    "# Dictionary to JSON conversion, which the json.dumps(___) does for me!\n",
    "my_info_json = json.dumps(my_info)\n",
    "print(\"Original JSON string:\", my_info_json)\n",
    "\n",
    "# Here are the same changes, where I update my age from 16 to 17. \n",
    "my_info[\"age\"] = 17  \n",
    "\n",
    "# Convert the modified dictionary back to a JSON string\n",
    "updated_info_json = json.dumps(my_info)\n",
    "print(\"Updated JSON string:\", updated_info_json)\n",
    "\n",
    "print(\"Updated dictionary:\", my_info)\n"
   ]
  },
  {
   "cell_type": "markdown",
   "metadata": {},
   "source": [
    "<div style=\"border: 2px solid #336e9c; padding: 10px; border-radius: 5px; text-align: center;\">\n",
    "    <h2>Homework Hack for Lesson 3.2 (JSON Implementation)</h2>\n",
    "</div>"
   ]
  },
  {
   "cell_type": "code",
   "execution_count": 24,
   "metadata": {},
   "outputs": [
    {
     "name": "stdout",
     "output_type": "stream",
     "text": [
      "My Givens: {'name': 'Alice', 'age': 30}\n",
      "Updated dictionary: {'name': 'Alice', 'age': 31}\n",
      "Me being extra {'name': 'Rose', 'age': 31}\n"
     ]
    }
   ],
   "source": [
    "# Here I start with the dictionary you guys gave me. \n",
    "person = {\"name\": \"Alice\", \"age\": 30}\n",
    "\n",
    "print(\"My Givens:\", person)\n",
    "\n",
    "# Here I swap in a different corresponding value for the variable \"age\" by setting it equal to a new value.\n",
    "person[\"age\"] = 31\n",
    "\n",
    "\n",
    "print(\"Updated dictionary:\", person)\n",
    "\n",
    "# I'll change another value! Let's change \"Alice\" to \"Rose,\" cause why not?\n",
    "person[\"name\"] = \"Rose\"\n",
    "\n",
    "print(\"Me being extra\", person)\n"
   ]
  }
 ],
 "metadata": {
  "kernelspec": {
   "display_name": "venv",
   "language": "python",
   "name": "python3"
  },
  "language_info": {
   "codemirror_mode": {
    "name": "ipython",
    "version": 3
   },
   "file_extension": ".py",
   "mimetype": "text/x-python",
   "name": "python",
   "nbconvert_exporter": "python",
   "pygments_lexer": "ipython3",
   "version": "3.10.12"
  }
 },
 "nbformat": 4,
 "nbformat_minor": 2
}
