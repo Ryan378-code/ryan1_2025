{
    "cells": [
     {
      "cell_type": "code",
      "execution_count": null,
      "metadata": {},
      "outputs": [],
      "source": [
       "from emoji import emojize \n",
       "print(emojize(\":thumbs_up: Python is awesome! :grinning_face:\"))\n",
       "print(\"This is my introduction to Jupyter Notebooks! This is my emoji notebook. :)\")"
      ]
     }
    ],
    "metadata": {
     "kernelspec": {
      "display_name": "venv",
      "language": "python",
      "name": "python3"
     },
     "language_info": {
      "name": "python",
      "version": "3.10.12"
     }
    },
    "nbformat": 4,
    "nbformat_minor": 2
   }
   