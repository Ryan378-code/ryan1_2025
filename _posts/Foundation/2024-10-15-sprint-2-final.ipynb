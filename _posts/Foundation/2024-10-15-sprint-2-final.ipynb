{
 "cells": [
  {
   "cell_type": "code",
   "execution_count": 22,
   "metadata": {
    "vscode": {
     "languageId": "html"
    }
   },
   "outputs": [
    {
     "data": {
      "text/html": [
       "<!DOCTYPE html>\n",
       "<html lang=\"en\">\n",
       "<head>\n",
       "    <meta charset=\"UTF-8\">\n",
       "    <meta name=\"viewport\" content=\"width=device-width, initial-scale=1.0\">\n",
       "    <title>Sprint 2 Final Hacks</title>\n",
       "    <style>\n",
       "        body {\n",
       "            font-family: Arial, sans-serif;\n",
       "            margin: 20px;\n",
       "        }\n",
       "        .link {\n",
       "            color: blue; /* Link color */\n",
       "            text-decoration: underline; /* Underline the link */\n",
       "        }\n",
       "    </style>\n",
       "</head>\n",
       "<body>\n",
       "    <h2>Sprint 2 Final Hacks:</h2>\n",
       "    <p>Check out the link for more information:</p>\n",
       "    <a class=\"link\" href=\"https://nighthawkcoders.github.io/portfolio_2025/csse/javascript/fundamentals/for-loops/\" target=\"_blank\">\n",
       "        Mort's Link\n",
       "    </a>\n",
       "</body>\n",
       "</html>\n"
      ],
      "text/plain": [
       "<IPython.core.display.HTML object>"
      ]
     },
     "metadata": {},
     "output_type": "display_data"
    }
   ],
   "source": [
    "%%html\n",
    "<!DOCTYPE html>\n",
    "<html lang=\"en\">\n",
    "<head>\n",
    "    <meta charset=\"UTF-8\">\n",
    "    <meta name=\"viewport\" content=\"width=device-width, initial-scale=1.0\">\n",
    "    <title>Sprint 2 Final Hacks</title>\n",
    "    <style>\n",
    "        body {\n",
    "            font-family: Arial, sans-serif;\n",
    "            margin: 20px;\n",
    "        }\n",
    "        .link {\n",
    "            color: blue; /* Link color */\n",
    "            text-decoration: underline; /* Underline the link */\n",
    "        }\n",
    "    </style>\n",
    "</head>\n",
    "<body>\n",
    "    <h2>Sprint 2 Final Hacks:</h2>\n",
    "    <p>Check out the link for more information:</p>\n",
    "    <a class=\"link\" href=\"https://nighthawkcoders.github.io/portfolio_2025/csse/javascript/fundamentals/for-loops/\" target=\"_blank\">\n",
    "        Mort's Link\n",
    "    </a>\n",
    "</body>\n",
    "</html>\n"
   ]
  },
  {
   "cell_type": "code",
   "execution_count": 23,
   "metadata": {
    "vscode": {
     "languageId": "html"
    }
   },
   "outputs": [
    {
     "data": {
      "text/html": [
       "\n",
       "<html lang=\"en\">\n",
       "<head>\n",
       "    <meta charset=\"UTF-8\">\n",
       "    <meta name=\"viewport\" content=\"width=device-width, initial-scale=1.0\">\n",
       "    <style>\n",
       "        #gameCanvas {\n",
       "            border: 4px solid rgb(102, 4, 4);\n",
       "        }\n",
       "    </style>\n",
       "</head>\n",
       "<body>\n",
       "    <canvas id=\"gameCanvas\" width=\"600\" height=\"400\"></canvas>\n",
       "\n",
       "    <script>\n",
       "        // Sprite metadata for lamp\n",
       "        const lampSprite = {\n",
       "            name: 'lamp',\n",
       "            src: 'https://target.scene7.com/is/image/Target/GUEST_43f55026-adf3-4fce-aed3-817994ff6d0e?wid=488&hei=488&fmt=pjpeg',\n",
       "            position: { x: 50, y: 50 } // Position of the lamp sprite\n",
       "        };\n",
       "\n",
       "        class CanvasDrawSprite {\n",
       "            constructor(sprite) {\n",
       "                this.sprite = sprite;\n",
       "                this.canvas = document.getElementById('gameCanvas');\n",
       "                this.ctx = this.canvas.getContext('2d');\n",
       "                this.spriteImage = new Image();\n",
       "                this.spriteImage.src = sprite.src;\n",
       "\n",
       "                // Ensure the draw function is called only after the image loads\n",
       "                this.spriteImage.onload = () => this.draw();\n",
       "                this.spriteImage.onerror = () => console.error('Failed to load image:', this.sprite.src);\n",
       "            }\n",
       "\n",
       "            draw() {\n",
       "                const { x, y } = this.sprite.position;\n",
       "                this.ctx.drawImage(this.spriteImage, x, y);\n",
       "                console.log(`Drawing sprite: ${this.sprite.name} at position (${x}, ${y})`);\n",
       "            }\n",
       "        }\n",
       "\n",
       "        // Initialize and draw the lamp sprite\n",
       "        new CanvasDrawSprite(lampSprite);\n",
       "    </script>\n",
       "</body>\n",
       "</html>\n"
      ],
      "text/plain": [
       "<IPython.core.display.HTML object>"
      ]
     },
     "metadata": {},
     "output_type": "display_data"
    }
   ],
   "source": [
    "%%html\n",
    "\n",
    "<html lang=\"en\">\n",
    "<head>\n",
    "    <meta charset=\"UTF-8\">\n",
    "    <meta name=\"viewport\" content=\"width=device-width, initial-scale=1.0\">\n",
    "    <style>\n",
    "        #gameCanvas {\n",
    "            border: 4px solid rgb(102, 4, 4);\n",
    "        }\n",
    "    </style>\n",
    "</head>\n",
    "<body>\n",
    "    <canvas id=\"gameCanvas\" width=\"600\" height=\"400\"></canvas>\n",
    "\n",
    "    <script>\n",
    "        // Sprite metadata for lamp\n",
    "        const lampSprite = {\n",
    "            name: 'lamp',\n",
    "            src: 'https://target.scene7.com/is/image/Target/GUEST_43f55026-adf3-4fce-aed3-817994ff6d0e?wid=488&hei=488&fmt=pjpeg',\n",
    "            position: { x: 50, y: 50 } // Position of the lamp sprite\n",
    "        };\n",
    "\n",
    "        class CanvasDrawSprite {\n",
    "            constructor(sprite) {\n",
    "                this.sprite = sprite;\n",
    "                this.canvas = document.getElementById('gameCanvas');\n",
    "                this.ctx = this.canvas.getContext('2d');\n",
    "                this.spriteImage = new Image();\n",
    "                this.spriteImage.src = sprite.src;\n",
    "\n",
    "                // Ensure the draw function is called only after the image loads\n",
    "                this.spriteImage.onload = () => this.draw();\n",
    "                this.spriteImage.onerror = () => console.error('Failed to load image:', this.sprite.src);\n",
    "            }\n",
    "\n",
    "            draw() {\n",
    "                const { x, y } = this.sprite.position;\n",
    "                this.ctx.drawImage(this.spriteImage, x, y);\n",
    "                console.log(`Drawing sprite: ${this.sprite.name} at position (${x}, ${y})`);\n",
    "            }\n",
    "        }\n",
    "\n",
    "        // Initialize and draw the lamp sprite\n",
    "        new CanvasDrawSprite(lampSprite);\n",
    "    </script>\n",
    "</body>\n",
    "</html>"
   ]
  }
 ],
 "metadata": {
  "kernelspec": {
   "display_name": "venv",
   "language": "python",
   "name": "python3"
  },
  "language_info": {
   "codemirror_mode": {
    "name": "ipython",
    "version": 3
   },
   "file_extension": ".py",
   "mimetype": "text/x-python",
   "name": "python",
   "nbconvert_exporter": "python",
   "pygments_lexer": "ipython3",
   "version": "3.10.12"
  }
 },
 "nbformat": 4,
 "nbformat_minor": 2
}
