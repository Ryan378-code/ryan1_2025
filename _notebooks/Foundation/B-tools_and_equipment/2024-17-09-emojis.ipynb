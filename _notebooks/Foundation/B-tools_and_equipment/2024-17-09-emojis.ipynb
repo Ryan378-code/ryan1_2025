{
 "cells": [
  {
   "cell_type": "code",
   "execution_count": 11,
   "metadata": {},
   "outputs": [
    {
     "name": "stdout",
     "output_type": "stream",
     "text": [
      "👍 Python is awesome! 😀\n",
      "This is my introduction to emojis! When I sync my Jupyter Notebook, it should work on my Github Repo.\n"
     ]
    }
   ],
   "source": [
    "from emoji import emojize \n",
    "print(emojize(\":thumbs_up: Python is awesome! :grinning_face:\"))\n",
    "print(\"This is my introduction to emojis! When I sync my Jupyter Notebook, it should work on my Github Repo.\")"
   ]
  }
 ],
 "metadata": {
  "kernelspec": {
   "display_name": "venv",
   "language": "python",
   "name": "python3"
  },
  "language_info": {
   "codemirror_mode": {
    "name": "ipython",
    "version": 3
   },
   "file_extension": ".py",
   "mimetype": "text/x-python",
   "name": "python",
   "nbconvert_exporter": "python",
   "pygments_lexer": "ipython3",
   "version": "3.10.12"
  }
 },
 "nbformat": 4,
 "nbformat_minor": 2
}
